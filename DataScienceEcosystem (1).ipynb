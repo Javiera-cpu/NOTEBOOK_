{
 "cells": [
  {
   "cell_type": "markdown",
   "id": "73905ea9-5ec4-49e9-9bdd-2f940755d385",
   "metadata": {},
   "source": [
    "Data Science Tools and Ecosystem"
   ]
  },
  {
   "cell_type": "markdown",
   "id": "7b4f9cbc-2727-4843-9644-d801f1d38b82",
   "metadata": {},
   "source": [
    "## Autor\n",
    "[JAVIERA CONSTANZA ECHEVERRIA QUIROZ]\n"
   ]
  },
  {
   "cell_type": "markdown",
   "id": "5f3907a4-1a55-4d49-b12d-8eec355b841f",
   "metadata": {},
   "source": [
    "En este cuaderno, se resumen las herramientas y ecosistemas de ciencia de datos."
   ]
  },
  {
   "cell_type": "markdown",
   "id": "67044928-07f9-4e7c-8547-cbb963edf07b",
   "metadata": {},
   "source": [
    "**Objetivos:**\n",
    "- Listar lenguajes populares para Ciencia de Datos.\n",
    "- Identificar herramientas de Ciencia de Datos.\n",
    "- Aprender sobre bibliotecas para análisis de datos.\n",
    "- Aplicar expresiones aritméticas en Python.\n",
    "- Explorar el uso de Git y GitHub en proyectos de Ciencia de Datos.\n"
   ]
  },
  {
   "cell_type": "markdown",
   "id": "b1ff1aba-2bd9-436f-87f3-2db616c12d4d",
   "metadata": {},
   "source": [
    "Algunas de las bibliotecas comúnmente utilizadas por los científicos de datos incluyen:  \n",
    "1. NumPy \n",
    "2. Pandas  \n",
    "3. Matplotlib  "
   ]
  },
  {
   "cell_type": "markdown",
   "id": "f3dea35e-844c-4194-9f16-da567e31f10a",
   "metadata": {},
   "source": [
    "| Herramientas de Ciencia de Datos |\n",
    "|---------------------------------|\n",
    "Jupyter Notebook                \n",
    "RStudio                          \n",
    "Apache Zeppelin                  \n"
   ]
  },
  {
   "cell_type": "markdown",
   "id": "bdbaf5ba-dba6-4355-92fc-759232b3f244",
   "metadata": {},
   "source": [
    "### A continuación, se presentan algunos ejemplos de evaluación de expresiones aritméticas en Python.\n"
   ]
  },
  {
   "cell_type": "code",
   "execution_count": 23,
   "id": "d7981ac2-9f0a-4339-bc09-b3555ac20f2a",
   "metadata": {},
   "outputs": [
    {
     "data": {
      "text/plain": [
       "17"
      ]
     },
     "execution_count": 23,
     "metadata": {},
     "output_type": "execute_result"
    }
   ],
   "source": [
    "# Esta es una expresión aritmética simple para multiplicar y luego sumar enteros\n",
    "(2 * 5) + 7\n"
   ]
  },
  {
   "cell_type": "code",
   "execution_count": 25,
   "id": "3f345a10-8416-47d7-977c-626d05e32cd1",
   "metadata": {},
   "outputs": [
    {
     "data": {
      "text/plain": [
       "3.3333333333333335"
      ]
     },
     "execution_count": 25,
     "metadata": {},
     "output_type": "execute_result"
    }
   ],
   "source": [
    "# Esto convertirá 200 minutos a horas dividiendo por 60\n",
    "200 / 60\n",
    "\n"
   ]
  },
  {
   "cell_type": "code",
   "execution_count": null,
   "id": "a5964d5f-c9c3-414f-b64e-121840313a98",
   "metadata": {},
   "outputs": [],
   "source": []
  }
 ],
 "metadata": {
  "kernelspec": {
   "display_name": "Python [conda env:javi_env]",
   "language": "python",
   "name": "conda-env-javi_env-py"
  },
  "language_info": {
   "codemirror_mode": {
    "name": "ipython",
    "version": 3
   },
   "file_extension": ".py",
   "mimetype": "text/x-python",
   "name": "python",
   "nbconvert_exporter": "python",
   "pygments_lexer": "ipython3",
   "version": "3.12.9"
  }
 },
 "nbformat": 4,
 "nbformat_minor": 5
}
